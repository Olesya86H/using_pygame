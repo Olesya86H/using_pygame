{
 "cells": [
  {
   "cell_type": "markdown",
   "id": "30219deb",
   "metadata": {},
   "source": [
    "Задание 1. Рисование линий мышью\n",
    "\n",
    "Создайте программу, которая позволяет пользователю рисовать линии на экране с помощью мыши. При движении мыши должны появляться линии, которые сохраняются на экране."
   ]
  },
  {
   "cell_type": "code",
   "execution_count": 24,
   "id": "f96dd459",
   "metadata": {},
   "outputs": [
    {
     "ename": "SystemExit",
     "evalue": "",
     "output_type": "error",
     "traceback": [
      "An exception has occurred, use %tb to see the full traceback.\n",
      "\u001b[1;31mSystemExit\u001b[0m\n"
     ]
    }
   ],
   "source": [
    "import pygame\n",
    "import sys\n",
    "from random import randint\n",
    "\n",
    "#Функция для определения рандомного цвета:\n",
    "def rand_color():\n",
    "    r = randint(0, 255)\n",
    "    g = randint(0, 255)\n",
    "    b = randint(0, 255)\n",
    "    rand_color = (r, g, b)\n",
    "    return rand_color\n",
    "\n",
    "def main():\n",
    "    pygame.init()\n",
    "    \n",
    "    #Определение констант:\n",
    "    WIDTH, HEIGHT = 800, 600 #размеры окна приложения\n",
    "    WHITE = (255, 255, 255) #цвет фона окна приложения\n",
    "    LINE_WIDTH = 5 #ширина рисуемых линий, в пикселях\n",
    "    \n",
    "    \n",
    "    #Создание окна:\n",
    "    screen = pygame.display.set_mode((WIDTH, HEIGHT), 0, 32)\n",
    "    screen.fill(WHITE)\n",
    "    pygame.display.set_caption(\"Рисуем линии\")\n",
    "\n",
    "    #Переменные:\n",
    "    mouse_position = (0, 0) #x, y координаты для рисования, к которым ведём мышь    \n",
    "    last_pos = None #конечные координаты для рисования, которые становятся стартовыми в след.итерации цикла\n",
    "    draw_go = False #флаг, определяющий, рисуем ли в текущий момент\n",
    "\n",
    "    #Основной игровой цикл:\n",
    "    while True:\n",
    "        for event in pygame.event.get():\n",
    "            if event.type == QUIT: #выход из приложения\n",
    "                pygame.quit()\n",
    "                sys.exit()\n",
    "            elif event.type == MOUSEMOTION: #двигаем мышку с зажатой ЛКМ\n",
    "                if draw_go == True:\n",
    "                    mouse_position = pygame.mouse.get_pos()\n",
    "                    if last_pos != None:\n",
    "                        pygame.draw.line(screen, rand_color(), last_pos, mouse_position, LINE_WIDTH)\n",
    "                    last_pos = mouse_position\n",
    "            elif event.type == MOUSEBUTTONUP: #отпустили ЛКМ - обнулили все координаты, чтобы рисовать новые линии, сохраняя старые\n",
    "                mouse_position = (0, 0)\n",
    "                last_pos = None\n",
    "                draw_go = False                \n",
    "            elif event.type == MOUSEBUTTONDOWN: #зажали ЛКМ\n",
    "                draw_go = True\n",
    "\n",
    "        pygame.display.update() #обновили экран\n",
    "\n",
    "if __name__ == \"__main__\":\n",
    "    main()"
   ]
  },
  {
   "cell_type": "markdown",
   "id": "794bc08d",
   "metadata": {},
   "source": [
    "Задание _2 . Круги\n",
    "\n",
    "Пусть в центре экрана нарисован круг. При нажатии левой клавиши мыши , радиус круга увеличивается на 20%, при нажатии клавиши пробел уменьшается на 20%."
   ]
  },
  {
   "cell_type": "code",
   "execution_count": 27,
   "id": "43ddd4c6",
   "metadata": {},
   "outputs": [
    {
     "ename": "SystemExit",
     "evalue": "",
     "output_type": "error",
     "traceback": [
      "An exception has occurred, use %tb to see the full traceback.\n",
      "\u001b[1;31mSystemExit\u001b[0m\n"
     ]
    }
   ],
   "source": [
    "import pygame\n",
    "import sys\n",
    "\n",
    "pygame.init()\n",
    "\n",
    "# Определение констант\n",
    "WIDTH, HEIGHT = 800, 600\n",
    "FPS = 60\n",
    "\n",
    "# Цвета\n",
    "WHITE = (255, 255, 255)\n",
    "AQUA = (0, 255, 255)\n",
    "\n",
    "# Создание окна\n",
    "screen = pygame.display.set_mode((WIDTH, HEIGHT))\n",
    "pygame.display.set_caption(\"Круг меняет радиус\")\n",
    "\n",
    "# Начальные координаты и радиус круга\n",
    "circle_x, circle_y = WIDTH // 2, HEIGHT // 2\n",
    "circle_radius = 50\n",
    "circle_color = AQUA\n",
    "\n",
    "# Основной игровой цикл\n",
    "running = True\n",
    "clock = pygame.time.Clock()\n",
    "\n",
    "while running:\n",
    "    for event in pygame.event.get():\n",
    "        if event.type == pygame.QUIT:\n",
    "            running = False\n",
    "        elif event.type == pygame.MOUSEBUTTONDOWN and event.button == 1:  #Левая кнопка мыши (ЛКМ)\n",
    "            #При нажатии ЛКМ радиус круга увеличивается на 20%\n",
    "            circle_radius = circle_radius + circle_radius * 0.2\n",
    "        elif event.type == pygame.KEYDOWN and event.key == pygame.K_SPACE:  #Нажата клавиша \"Пробел\"\n",
    "            #При нажатии пробела радиус круга уменьшается на 20%\n",
    "            circle_radius = circle_radius - circle_radius * 0.2\n",
    "\n",
    "    # Обновление игры\n",
    "    # Отрисовка фона\n",
    "    screen.fill(WHITE)\n",
    "\n",
    "    # Рисование круга\n",
    "    pygame.draw.circle(screen, circle_color, (circle_x, circle_y), circle_radius)\n",
    "\n",
    "    # После отрисовки всего, переворачиваем экран\n",
    "    pygame.display.flip()\n",
    "\n",
    "    # Задаем частоту кадров\n",
    "    clock.tick(FPS)\n",
    "\n",
    "# Завершение программы\n",
    "pygame.quit()\n",
    "sys.exit() "
   ]
  },
  {
   "cell_type": "code",
   "execution_count": null,
   "id": "189eac8c",
   "metadata": {},
   "outputs": [],
   "source": []
  }
 ],
 "metadata": {
  "kernelspec": {
   "display_name": "Python 3 (ipykernel)",
   "language": "python",
   "name": "python3"
  },
  "language_info": {
   "codemirror_mode": {
    "name": "ipython",
    "version": 3
   },
   "file_extension": ".py",
   "mimetype": "text/x-python",
   "name": "python",
   "nbconvert_exporter": "python",
   "pygments_lexer": "ipython3",
   "version": "3.11.0"
  }
 },
 "nbformat": 4,
 "nbformat_minor": 5
}
