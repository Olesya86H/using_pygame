{
 "cells": [
  {
   "cell_type": "markdown",
   "id": "3ed797a0",
   "metadata": {},
   "source": [
    "Задание 1. Сделайте текст «Доброе утро!» желтым цветом на зеленом фоне, чтобы он двигался снизу вверх."
   ]
  },
  {
   "cell_type": "code",
   "execution_count": 1,
   "id": "d2fbaec4",
   "metadata": {},
   "outputs": [
    {
     "name": "stdout",
     "output_type": "stream",
     "text": [
      "pygame 2.6.0 (SDL 2.28.4, Python 3.11.0)\n",
      "Hello from the pygame community. https://www.pygame.org/contribute.html\n"
     ]
    },
    {
     "ename": "SystemExit",
     "evalue": "",
     "output_type": "error",
     "traceback": [
      "An exception has occurred, use %tb to see the full traceback.\n",
      "\u001b[1;31mSystemExit\u001b[0m\n"
     ]
    },
    {
     "name": "stderr",
     "output_type": "stream",
     "text": [
      "C:\\Users\\Chernyavskaya_OS\\AppData\\Local\\Programs\\Python\\Python311\\Lib\\site-packages\\IPython\\core\\interactiveshell.py:3441: UserWarning: To exit: use 'exit', 'quit', or Ctrl-D.\n",
      "  warn(\"To exit: use 'exit', 'quit', or Ctrl-D.\", stacklevel=1)\n"
     ]
    }
   ],
   "source": [
    "import pygame as pg\n",
    "import sys\n",
    "import time\n",
    "\n",
    "#Константы:\n",
    "YELLOW = (255, 255, 0) #желтый   \n",
    "LIGHT_GREEN = (200, 255, 200) #зеленый \n",
    "WIDTH, HEIGHT = 400, 300\n",
    "\n",
    "def main():\n",
    "    pg.init()\n",
    "    \n",
    "    #Параметры окна на экране:\n",
    "    sc = pg.display.set_mode((WIDTH, HEIGHT))\n",
    "    sc.fill(LIGHT_GREEN)\n",
    "    pg.display.set_caption(\"Двигающийся текст\")\n",
    "    \n",
    "    #Параметры отображаемого текста:\n",
    "    font = pg.font.Font(None, 72)\n",
    "    text = font.render(\"Доброе утро!\", True, YELLOW)\n",
    "    \n",
    "    #Выводим текст:\n",
    "    place = text.get_rect(center=(200, 300))\n",
    "    sc.blit(text, place)\n",
    "    pg.display.update()\n",
    "    \n",
    "    #Обновляем экран, наблюдаем двигающийся текст:\n",
    "    while True:\n",
    "        for i in pg.event.get():\n",
    "            if i.type == pg.QUIT:\n",
    "                pg.quit()\n",
    "                sys.exit()\n",
    "        sc.fill(LIGHT_GREEN)\n",
    "        place.y -= 20\n",
    "        sc.blit(text, place)\n",
    "        pg.display.update()\n",
    "        time.sleep(0.5)\n",
    "    \n",
    "if __name__ == \"__main__\":\n",
    "    main()"
   ]
  },
  {
   "cell_type": "markdown",
   "id": "8f4ffb87",
   "metadata": {},
   "source": [
    "Задание 2. Измените цвет шрифта по нажатию клавиши"
   ]
  },
  {
   "cell_type": "code",
   "execution_count": 2,
   "id": "d39d191d",
   "metadata": {},
   "outputs": [
    {
     "ename": "SystemExit",
     "evalue": "",
     "output_type": "error",
     "traceback": [
      "An exception has occurred, use %tb to see the full traceback.\n",
      "\u001b[1;31mSystemExit\u001b[0m\n"
     ]
    }
   ],
   "source": [
    "import pygame as pg\n",
    "import sys\n",
    "import time\n",
    "from random import randint\n",
    "\n",
    "#Константы:\n",
    "YELLOW = (255, 255, 0) #желтый   \n",
    "LIGHT_GREEN = (200, 255, 200) #зеленый \n",
    "WIDTH, HEIGHT = 400, 300\n",
    "\n",
    "#Функция для определения рандомного цвета:\n",
    "def rand_color():\n",
    "    r = randint(0, 255)\n",
    "    g = randint(0, 255)\n",
    "    b = randint(0, 255)\n",
    "    rand_color = (r, g, b)\n",
    "    return rand_color\n",
    "\n",
    "def main():\n",
    "    pg.init()\n",
    "    \n",
    "    #Параметры окна на экране:\n",
    "    sc = pg.display.set_mode((WIDTH, HEIGHT))\n",
    "    sc.fill(LIGHT_GREEN)\n",
    "    pg.display.set_caption(\"Двигающийся текст\")\n",
    "    \n",
    "    #Параметры отображаемого текста:\n",
    "    font = pg.font.Font(None, 72)\n",
    "    text = font.render(\"Доброе утро!\", True, YELLOW)\n",
    "    \n",
    "    #Выводим текст:\n",
    "    place = text.get_rect(center=(200, 300))\n",
    "    sc.blit(text, place)\n",
    "    pg.display.update()\n",
    "    \n",
    "    #Обновляем экран, наблюдаем двигающийся текст:\n",
    "    while True:\n",
    "        for i in pg.event.get():\n",
    "            if i.type == pg.QUIT:\n",
    "                pg.quit()\n",
    "                sys.exit()\n",
    "            elif i.type == pg.KEYDOWN:\n",
    "                text = font.render(\"Доброе утро!\", True, rand_color()) #меняем цвет текста по нажатию любой клавиши\n",
    "                \n",
    "        sc.fill(LIGHT_GREEN)\n",
    "        place.y -= 20\n",
    "        sc.blit(text, place)\n",
    "        pg.display.update()\n",
    "        time.sleep(1)\n",
    "    \n",
    "if __name__ == \"__main__\":\n",
    "    main()"
   ]
  },
  {
   "cell_type": "markdown",
   "id": "1c8605fe",
   "metadata": {},
   "source": [
    "Задание 3. Загрузите картинку и поверните ее на 90 градусов, на 180. Измените фон картинки."
   ]
  },
  {
   "cell_type": "code",
   "execution_count": 3,
   "id": "5bf97909",
   "metadata": {},
   "outputs": [
    {
     "ename": "SystemExit",
     "evalue": "",
     "output_type": "error",
     "traceback": [
      "An exception has occurred, use %tb to see the full traceback.\n",
      "\u001b[1;31mSystemExit\u001b[0m\n"
     ]
    }
   ],
   "source": [
    "import pygame as pg\n",
    "import sys\n",
    "import time\n",
    "\n",
    "#Константы:\n",
    "WIDTH, HEIGHT = 400, 400\n",
    "LIGHT_GREEN = (200, 255, 200) #зеленый \n",
    "WHITE = (255, 255, 255) #белый\n",
    "\n",
    "def main():\n",
    "    sc = pg.display.set_mode((WIDTH, HEIGHT))\n",
    "    sc.fill(LIGHT_GREEN)\n",
    "    pg.display.set_caption(\"Смена фона, поворот на 90, 180 градусов\")\n",
    "        \n",
    "    #загружаем спрайт, с белым \"родным\" фоном, который будем менять:\n",
    "    python_surf = pg.image.load('python.png') \n",
    "    python_rect = python_surf.get_rect(bottomright=(WIDTH-35, HEIGHT-40))\n",
    "    sc.blit(python_surf, python_rect)\n",
    "    pg.display.update()\n",
    "    time.sleep(2) #смотрим на картинку 2 сек, чтобы убедиться, что фон был белым изначально\n",
    "    \n",
    "    while True:\n",
    "        for i in pg.event.get():\n",
    "            if i.type == pg.QUIT:\n",
    "                pg.quit()\n",
    "                sys.exit()    \n",
    "                \n",
    "        sc.fill(LIGHT_GREEN) #залили изначальный спрайт\n",
    "        pg.display.update()\n",
    "        \n",
    "        #загрузили снова спрайт, но поменяли фон на прозрачный:\n",
    "        python_surf = pg.image.load('python.png') \n",
    "        python_surf.set_colorkey(WHITE) #меняем белый фон в картинке python.png на прозрачный с пом.наложения белых пикселей, который заливается фоном окна (LIGHT_GREEN)\n",
    "        python_rect = python_surf.get_rect(bottomright=(WIDTH-35, HEIGHT-40))\n",
    "        sc.blit(python_surf, python_rect) #отобразили спрайт \n",
    "        pg.display.update()\n",
    "        time.sleep(2) #смотрим на картинку 2 сек, чтобы убедиться, что фон был поменялся на прозрачный   \n",
    "        \n",
    "        sc.fill(LIGHT_GREEN) #залили спрайт с прозрачным фоном\n",
    "        pg.display.update()\n",
    "        \n",
    "        python_surf_rt = pg.transform.rotate(python_surf, 90) #повернули спрайт на 90 градусов\n",
    "        python_surf_rt.set_colorkey(WHITE) #меняем белый фон в картинке python.png на прозрачный с пом.наложения белых пикселей, который заливается фоном окна (LIGHT_GREEN)\n",
    "        sc.blit(python_surf_rt, python_rect) #отобразили спрайт  \n",
    "        pg.display.update()\n",
    "        time.sleep(2) #смотрим на картинку 2 сек, чтобы убедиться, что спрайт повернулся \n",
    "       \n",
    "        sc.fill(LIGHT_GREEN) #залили спрайт с прозрачным фоном\n",
    "        pg.display.update()\n",
    "        \n",
    "        python_surf_rt_2 = pg.transform.rotate(python_surf_rt, 180) #повернули спрайт на 180 градусов\n",
    "        python_surf_rt_2.set_colorkey(WHITE) #меняем белый фон в картинке python.png на прозрачный с пом.наложения белых пикселей, который заливается фоном окна (LIGHT_GREEN)\n",
    "        sc.blit(python_surf_rt_2, python_rect) #отобразили спрайт  \n",
    "        pg.display.update()\n",
    "        time.sleep(2) #смотрим на картинку 2 сек, чтобы убедиться, что спрайт повернулся\n",
    "           \n",
    "    \n",
    "if __name__ == \"__main__\":\n",
    "    main()"
   ]
  },
  {
   "cell_type": "markdown",
   "id": "96b5b834",
   "metadata": {},
   "source": [
    "Задание 4. Творческое задание. Нарисуйте свой рисунок. Добавьте движение и трансформацию"
   ]
  },
  {
   "cell_type": "code",
   "execution_count": 4,
   "id": "5f1877b4",
   "metadata": {},
   "outputs": [
    {
     "ename": "SystemExit",
     "evalue": "",
     "output_type": "error",
     "traceback": [
      "An exception has occurred, use %tb to see the full traceback.\n",
      "\u001b[1;31mSystemExit\u001b[0m\n"
     ]
    }
   ],
   "source": [
    "#здесь загружается последовательно две картинки с бабочками, которые сменяют друг друга через секунду, \n",
    "#добавлена возможность перемещения обеих картинок в рамках окна приложения с помощью стрелок клавиатуры ↑, ↓, →, ←.\n",
    "\n",
    "import pygame as pg\n",
    "import sys\n",
    "import time\n",
    "\n",
    "#Константы:\n",
    "WIDTH, HEIGHT = 800, 600\n",
    "LIGHT_BLUE = (135, 206, 250) #бледно-голубой \n",
    "WHITE = (255, 255, 255) #белый\n",
    "\n",
    "def main():\n",
    "    sc = pg.display.set_mode((WIDTH, HEIGHT))\n",
    "    sc.fill(LIGHT_BLUE)\n",
    "    pg.display.set_caption(\"Бабочки\")\n",
    "    x = 35\n",
    "    y = 40\n",
    "    \n",
    "    while True:\n",
    "        for i in pg.event.get():\n",
    "            if i.type == pg.QUIT:\n",
    "                pg.quit()\n",
    "                sys.exit()\n",
    "            elif i.type == pg.KEYDOWN:\n",
    "                if i.key == pg.K_LEFT:\n",
    "                    x = x + 60\n",
    "                elif i.key == pg.K_RIGHT:\n",
    "                    x = x - 60\n",
    "                elif i.key == pg.K_UP:\n",
    "                    y = y + 60\n",
    "                elif i.key == pg.K_DOWN:\n",
    "                    y = y - 60\n",
    "                \n",
    "        #загружаем спрайт:\n",
    "        butter_surf = pg.image.load('butter1.jpg') \n",
    "        butter_rect = butter_surf.get_rect(bottomright=(WIDTH - x, HEIGHT - y))\n",
    "        sc.blit(butter_surf, butter_rect)\n",
    "        pg.display.update()\n",
    "        time.sleep(1)\n",
    "    \n",
    "        sc.fill(LIGHT_BLUE) #залили спрайт фоном\n",
    "        pg.display.update()\n",
    "        \n",
    "        #загрузили снова спрайт:\n",
    "        butter_surf = pg.image.load('butter2.jpg') \n",
    "        butter_rect = butter_surf.get_rect(bottomright=(WIDTH - x, HEIGHT - y))\n",
    "        sc.blit(butter_surf, butter_rect) #отобразили спрайт \n",
    "        pg.display.update()\n",
    "        time.sleep(1)\n",
    "        \n",
    "        sc.fill(LIGHT_BLUE) #залили спрайт фоном\n",
    "        pg.display.update() \n",
    "    \n",
    "if __name__ == \"__main__\":\n",
    "    main()"
   ]
  },
  {
   "cell_type": "code",
   "execution_count": null,
   "id": "8a0a220e",
   "metadata": {},
   "outputs": [],
   "source": []
  }
 ],
 "metadata": {
  "kernelspec": {
   "display_name": "Python 3 (ipykernel)",
   "language": "python",
   "name": "python3"
  },
  "language_info": {
   "codemirror_mode": {
    "name": "ipython",
    "version": 3
   },
   "file_extension": ".py",
   "mimetype": "text/x-python",
   "name": "python",
   "nbconvert_exporter": "python",
   "pygments_lexer": "ipython3",
   "version": "3.11.0"
  }
 },
 "nbformat": 4,
 "nbformat_minor": 5
}
